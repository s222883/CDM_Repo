{
 "cells": [
  {
   "cell_type": "code",
   "execution_count": 1,
   "metadata": {},
   "outputs": [],
   "source": [
    "import sys\n",
    "from sage.all import *"
   ]
  },
  {
   "cell_type": "markdown",
   "metadata": {},
   "source": [
    "Check for irreducible polynomials:"
   ]
  },
  {
   "cell_type": "code",
   "execution_count": 2,
   "metadata": {},
   "outputs": [
    {
     "data": {
      "text/plain": [
       "True"
      ]
     },
     "execution_count": 2,
     "metadata": {},
     "output_type": "execute_result"
    }
   ],
   "source": [
    "R.<x> = PolynomialRing(Integers(5))\n",
    "f = x^3 - x + 2\n",
    "f.is_irreducible()"
   ]
  },
  {
   "cell_type": "code",
   "execution_count": 3,
   "metadata": {},
   "outputs": [],
   "source": [
    "d,u,v = xgcd(12,15)"
   ]
  },
  {
   "cell_type": "code",
   "execution_count": 4,
   "metadata": {},
   "outputs": [],
   "source": [
    "R.<x> = PolynomialRing(QQ)\n",
    "p1 = 18*x^3 - 42*x^2 + 30*x - 6\n",
    "p2 = -12*x^2 + 10*x - 2"
   ]
  },
  {
   "cell_type": "code",
   "execution_count": 5,
   "metadata": {},
   "outputs": [],
   "source": [
    "p3 = 0*x^2"
   ]
  },
  {
   "cell_type": "code",
   "execution_count": 6,
   "metadata": {},
   "outputs": [
    {
     "data": {
      "text/plain": [
       "0"
      ]
     },
     "execution_count": 6,
     "metadata": {},
     "output_type": "execute_result"
    }
   ],
   "source": [
    "p3.leading_coefficient()"
   ]
  },
  {
   "cell_type": "code",
   "execution_count": 7,
   "metadata": {},
   "outputs": [
    {
     "data": {
      "text/plain": [
       "array([1, 2])"
      ]
     },
     "execution_count": 7,
     "metadata": {},
     "output_type": "execute_result"
    }
   ],
   "source": [
    "import numpy as np\n",
    "np.array([1,2]).T"
   ]
  },
  {
   "cell_type": "code",
   "execution_count": 8,
   "metadata": {},
   "outputs": [
    {
     "data": {
      "text/plain": [
       "(2, 0)"
      ]
     },
     "execution_count": 8,
     "metadata": {},
     "output_type": "execute_result"
    }
   ],
   "source": [
    "a = 20\n",
    "a.quo_rem(10)"
   ]
  },
  {
   "cell_type": "code",
   "execution_count": 9,
   "metadata": {},
   "outputs": [
    {
     "data": {
      "text/plain": [
       "(6.66666666666667, 0.000000000000000)"
      ]
     },
     "execution_count": 9,
     "metadata": {},
     "output_type": "execute_result"
    }
   ],
   "source": [
    "\n",
    "divmod(20.0,3)"
   ]
  },
  {
   "cell_type": "code",
   "execution_count": 21,
   "metadata": {},
   "outputs": [],
   "source": [
    "ZI = QuadraticField(-1, 'I').ring_of_integers()\n",
    "r1 = ZI(2 + 3*I)\n",
    "r2 = ZI(-1 + 4*I)"
   ]
  },
  {
   "cell_type": "code",
   "execution_count": 22,
   "metadata": {},
   "outputs": [],
   "source": [
    "gaussian_quo = lambda a,b : ZI(real(a/b).round() + I*imag(a/b).round())\n",
    "gaussian_rem = lambda a,b: a - gaussian_quo(a,b)*b"
   ]
  },
  {
   "cell_type": "code",
   "execution_count": 13,
   "metadata": {},
   "outputs": [
    {
     "data": {
      "text/plain": [
       "[(2,)]"
      ]
     },
     "execution_count": 13,
     "metadata": {},
     "output_type": "execute_result"
    }
   ],
   "source": [
    "var('x')\n",
    "solve_mod([x == 2], 3)"
   ]
  },
  {
   "cell_type": "code",
   "execution_count": 14,
   "metadata": {},
   "outputs": [
    {
     "data": {
      "text/plain": [
       "[(3,)]"
      ]
     },
     "execution_count": 14,
     "metadata": {},
     "output_type": "execute_result"
    }
   ],
   "source": [
    "solve_mod([x == 3], 5)"
   ]
  },
  {
   "cell_type": "code",
   "execution_count": 15,
   "metadata": {},
   "outputs": [
    {
     "data": {
      "text/plain": [
       "[(2,)]"
      ]
     },
     "execution_count": 15,
     "metadata": {},
     "output_type": "execute_result"
    }
   ],
   "source": [
    "solve_mod([x == 2], 7)"
   ]
  },
  {
   "cell_type": "code",
   "execution_count": 5,
   "metadata": {},
   "outputs": [],
   "source": [
    "def EEA(p1, p2, typ = 'pol'):\n",
    "    \"\"\"Compute the \n",
    "\n",
    "    Args:\n",
    "        p1 (_type_): pol1\n",
    "        p2 (_type_): pol2\n",
    "\n",
    "    Returns:\n",
    "        _type_: EEA(pol1, pol2)\n",
    "    \"\"\"\n",
    "    if typ == 'pol':\n",
    "        rho0 = p1.leading_coefficient() ; rho1 =  p2.leading_coefficient()\n",
    "        r0 = p1/rho0; r1 = p2/rho1\n",
    "    else:\n",
    "        rho0 = 1; rho1 =  1\n",
    "        r0 = p1; r1 = p2\n",
    "        \n",
    "    s0 = 1/rho0; s1 = 0; t0 = 0; t1 = 1/rho1\n",
    "    i = 0\n",
    "    while (r1!=0):\n",
    "        if typ == 'pol':\n",
    "            q, rem = r0.quo_rem(r1)\n",
    "            if (rem == 0):\n",
    "                rho1 = 1\n",
    "            else:\n",
    "                rho0 = rho1\n",
    "                rho1 = rem.leading_coefficient()\n",
    "        elif typ == 'int':\n",
    "            q, rem = divmod(r0, r1)\n",
    "        elif typ == 'complex':\n",
    "            gaussian_quo = lambda a,b : ZI(real(a/b).round() + I*imag(a/b).round())\n",
    "            gaussian_rem = lambda a,b: a - gaussian_quo(a,b)*b\n",
    "            q = gaussian_quo(r0,r1)\n",
    "            rem = gaussian_rem(r0,r1)\n",
    "\n",
    "        rho0 = rho1; r0 = rem/ rho1; temp = r1\n",
    "        r1 = r0; r0 = temp\n",
    "        s0 = (s0 - q*s1)/ rho1\n",
    "        temp = s1\n",
    "        s1 = s0; s0 = temp\n",
    "        t0 = (t0 - q*t1)/ rho1\n",
    "        temp = t1\n",
    "        t1 = t0; t0 = temp\n",
    "        i+=1\n",
    "    l = i-1\n",
    "    return r0, s0, t0\n",
    "def chinese_remainder(remainders, modules, quo=lambda a,b:a//b, typ = 'int'):\n",
    "    \"\"\"\n",
    "    INPUT:\n",
    "        A list of remainders v_i and pairwise coprime modules m_i\n",
    "        representing a system of congruences {x == v_i mod },\n",
    "        where v_i, m_i belong to an euclidean domain ED\n",
    "    OUTPUT:\n",
    "        A solution of the system of congruences in the domain ED\n",
    "    \"\"\"\n",
    "    i = 0\n",
    "    m = reduce(lambda x,y:x*y, modules)\n",
    "    c = 0\n",
    "    print(f'With m = {m}')\n",
    "    for v_i, m_i in zip(remainders, modules):\n",
    "        m_div_m_i = quo(m, m_i)\n",
    "        _, s_i, _ = EEA(m_div_m_i, m_i, typ)\n",
    "\n",
    "        a = v_i * s_i; b = m_i\n",
    "        c_i = a - quo(a,b)*b\n",
    "\n",
    "        c += c_i * m_div_m_i\n",
    "        print('---------------------')\n",
    "        print(f'Iteración {i}:')\n",
    "        print(f'c_{i} = {c_i}')\n",
    "        \n",
    "        print(f'm_{i} = {m_i}')\n",
    "        print(f's_{i} = {s_i}')\n",
    "        print(f'v_{i} = {v_i}')\n",
    "        i+=1\n",
    "    return c"
   ]
  },
  {
   "cell_type": "code",
   "execution_count": 57,
   "metadata": {},
   "outputs": [
    {
     "name": "stdout",
     "output_type": "stream",
     "text": [
      "System to be solved:\n",
      "x == x (mod x^2)\n",
      "x == 1 (mod x^2 - 2*x + 1)\n",
      "With m = x^4 - 2*x^3 + x^2\n",
      "---------------------\n",
      "Iteración 0:\n",
      "c_0 = x\n",
      "m_0 = x^2\n",
      "s_0 = 2*x + 1\n",
      "v_0 = x\n",
      "---------------------\n",
      "Iteración 1:\n",
      "c_1 = -2*x + 3\n",
      "m_1 = x^2 - 2*x + 1\n",
      "s_1 = -2*x + 3\n",
      "v_1 = 1\n",
      "---------------------\n",
      "A solution of the system is -x^3 + x^2 + x\n"
     ]
    }
   ],
   "source": [
    "# EXAMPLE ON Z[x]\n",
    "Z.<x> = PolynomialRing(ZZ)\n",
    "remainders = [x, 1]\n",
    "modules = [(x^2), (x^2 + 1 - 2*x)]\n",
    "print(\"System to be solved:\")\n",
    "for r,m in zip(remainders, modules):\n",
    "    print(\"x == {} (mod {})\".format(r,m))\n",
    "solution = chinese_remainder(remainders, modules, typ = 'pol')\n",
    "print('---------------------')\n",
    "print(\"A solution of the system is {}\".format(solution))"
   ]
  },
  {
   "cell_type": "code",
   "execution_count": 65,
   "metadata": {},
   "outputs": [
    {
     "data": {
      "text/plain": [
       "1"
      ]
     },
     "execution_count": 65,
     "metadata": {},
     "output_type": "execute_result"
    }
   ],
   "source": [
    "R = Integers(5)\n",
    "R(2^4)"
   ]
  },
  {
   "cell_type": "code",
   "execution_count": 79,
   "metadata": {},
   "outputs": [
    {
     "data": {
      "text/plain": [
       "x^3 + x + 1"
      ]
     },
     "execution_count": 79,
     "metadata": {},
     "output_type": "execute_result"
    }
   ],
   "source": [
    "p1 = x^3 + x + 1; p1"
   ]
  },
  {
   "cell_type": "code",
   "execution_count": 80,
   "metadata": {},
   "outputs": [
    {
     "data": {
      "text/plain": [
       "[1, 1, 0, 1]"
      ]
     },
     "execution_count": 80,
     "metadata": {},
     "output_type": "execute_result"
    }
   ],
   "source": [
    "p1.coefficients(sparse = False)"
   ]
  },
  {
   "cell_type": "code",
   "execution_count": 81,
   "metadata": {},
   "outputs": [
    {
     "data": {
      "text/plain": [
       "3/2"
      ]
     },
     "execution_count": 81,
     "metadata": {},
     "output_type": "execute_result"
    }
   ],
   "source": [
    "6/4"
   ]
  },
  {
   "cell_type": "code",
   "execution_count": 108,
   "metadata": {},
   "outputs": [
    {
     "data": {
      "text/plain": [
       "0.0"
      ]
     },
     "execution_count": 108,
     "metadata": {},
     "output_type": "execute_result"
    }
   ],
   "source": [
    "import math\n",
    "math.log(1, 3)"
   ]
  },
  {
   "cell_type": "code",
   "execution_count": 112,
   "metadata": {},
   "outputs": [
    {
     "data": {
      "text/plain": [
       "16897"
      ]
     },
     "execution_count": 112,
     "metadata": {},
     "output_type": "execute_result"
    }
   ],
   "source": [
    "(175*15*4) + 6397"
   ]
  },
  {
   "cell_type": "code",
   "execution_count": 23,
   "metadata": {},
   "outputs": [],
   "source": [
    "import matplotlib.pyplot as plt\n",
    "import numpy as np\n",
    "f(x) = 1/3 + 1/9 + (x+1) * 3^(-x)"
   ]
  },
  {
   "cell_type": "code",
   "execution_count": 24,
   "metadata": {},
   "outputs": [
    {
     "data": {
      "text/plain": [
       "x |--> -(x + 1)*log(3)/3^x + 1/3^x"
      ]
     },
     "execution_count": 24,
     "metadata": {},
     "output_type": "execute_result"
    }
   ],
   "source": [
    "derivative(f, x)"
   ]
  },
  {
   "cell_type": "code",
   "execution_count": 26,
   "metadata": {},
   "outputs": [
    {
     "data": {
      "text/plain": [
       "1.0986122886681098"
      ]
     },
     "execution_count": 26,
     "metadata": {},
     "output_type": "execute_result"
    }
   ],
   "source": [
    "np.log(3)"
   ]
  },
  {
   "cell_type": "code",
   "execution_count": null,
   "metadata": {},
   "outputs": [],
   "source": []
  }
 ],
 "metadata": {
  "kernelspec": {
   "display_name": "SageMath 9.7",
   "language": "sage",
   "name": "sagemath"
  },
  "language_info": {
   "codemirror_mode": {
    "name": "ipython",
    "version": 3
   },
   "file_extension": ".py",
   "mimetype": "text/x-python",
   "name": "python",
   "nbconvert_exporter": "python",
   "pygments_lexer": "ipython3",
   "version": "3.10.8"
  },
  "orig_nbformat": 4
 },
 "nbformat": 4,
 "nbformat_minor": 2
}
